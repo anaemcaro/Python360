{
  "nbformat": 4,
  "nbformat_minor": 0,
  "metadata": {
    "colab": {
      "provenance": [],
      "authorship_tag": "ABX9TyMjvMtx1IJbH00ZiP1sbb5u",
      "include_colab_link": true
    },
    "kernelspec": {
      "name": "python3",
      "display_name": "Python 3"
    },
    "language_info": {
      "name": "python"
    }
  },
  "cells": [
    {
      "cell_type": "markdown",
      "metadata": {
        "id": "view-in-github",
        "colab_type": "text"
      },
      "source": [
        "<a href=\"https://colab.research.google.com/github/anaemcaro/Python360/blob/main/Day2.ipynb\" target=\"_parent\"><img src=\"https://colab.research.google.com/assets/colab-badge.svg\" alt=\"Open In Colab\"/></a>"
      ]
    },
    {
      "cell_type": "markdown",
      "source": [
        "## Day 2 in Python360\n",
        "\n",
        "Game: Generate a random number between 1 and 100 and ask the user to guess it. After each attempt, give the user a hint whether the number is greater than or less than the calculated number. When the user guesses, provide the number of attempts."
      ],
      "metadata": {
        "id": "rSE9DDd5-Cgt"
      }
    },
    {
      "cell_type": "code",
      "execution_count": 3,
      "metadata": {
        "colab": {
          "base_uri": "https://localhost:8080/"
        },
        "id": "sRmLWe1g98aS",
        "outputId": "7d757288-9237-4cb8-b339-b516c4e87ab1"
      },
      "outputs": [
        {
          "output_type": "stream",
          "name": "stdout",
          "text": [
            "What's your guess\n",
            "50\n",
            "Try lower\n",
            "What's your guess\n",
            "25\n",
            "Try higher\n",
            "What's your guess\n",
            "38\n",
            "Try lower\n",
            "What's your guess\n",
            "30\n",
            "Try higher\n",
            "What's your guess\n",
            "34\n",
            "Try higher\n",
            "What's your guess\n",
            "37\n",
            "Try lower\n",
            "What's your guess\n",
            "36\n",
            "Congratulatinon!!! You made it in 7 attempts\n"
          ]
        }
      ],
      "source": [
        "# Libraries\n",
        "from random import randrange      # to generate a random number\n",
        "\n",
        "# Generate the random number from 1 to 100\n",
        "numero = randrange(1,101)\n",
        "intentos = 0\n",
        "\n",
        "# Preguntar al usuario\n",
        "\n",
        "while True:\n",
        "  # Ask an validate if it is a number\n",
        "  try:\n",
        "    print(\"What's your guess\")\n",
        "    guess = int(input())\n",
        "  except:\n",
        "    print('It has to be a whole number')\n",
        "    continue\n",
        "\n",
        "  # Count the attempt\n",
        "  intentos += 1\n",
        "  # Compare the answer\n",
        "  if guess == numero:\n",
        "    break\n",
        "  elif guess > numero:\n",
        "    print('Try lower')\n",
        "  elif guess < numero:\n",
        "    print('Try higher')\n",
        "\n",
        "print('Congratulatinon!!! You made it in', intentos, 'attempts')"
      ]
    }
  ]
}