{
  "nbformat": 4,
  "nbformat_minor": 0,
  "metadata": {
    "colab": {
      "provenance": [],
      "authorship_tag": "ABX9TyPWnjc9FE0kVJlvI+hHyZ0z",
      "include_colab_link": true
    },
    "kernelspec": {
      "name": "python3",
      "display_name": "Python 3"
    },
    "language_info": {
      "name": "python"
    }
  },
  "cells": [
    {
      "cell_type": "markdown",
      "metadata": {
        "id": "view-in-github",
        "colab_type": "text"
      },
      "source": [
        "<a href=\"https://colab.research.google.com/github/anaemcaro/Python360/blob/main/Day1.ipynb\" target=\"_parent\"><img src=\"https://colab.research.google.com/assets/colab-badge.svg\" alt=\"Open In Colab\"/></a>"
      ]
    },
    {
      "cell_type": "markdown",
      "source": [
        "## Day 1 in Python360\n",
        "\n",
        "We want to prompt for two numbers and display the addition, subtraction, multiplication, and division between the first and the second."
      ],
      "metadata": {
        "id": "d40tOSw7fv2U"
      }
    },
    {
      "cell_type": "code",
      "execution_count": 4,
      "metadata": {
        "colab": {
          "base_uri": "https://localhost:8080/"
        },
        "id": "sbmqjMWsdgja",
        "outputId": "c2dbd31a-8c94-41b4-ef39-ca0342fff3b0"
      },
      "outputs": [
        {
          "output_type": "stream",
          "name": "stdout",
          "text": [
            "Tell me any number\n",
            "3.5\n",
            "Tell me another number other than 0 (cero)\n",
            "2\n",
            "3.5 + 2.0 = 5.5\n",
            "3.5 - 2.0 = 1.5\n",
            "3.5 * 2.0 = 7.0\n",
            "3.5 / 2.0 = 1.75\n"
          ]
        }
      ],
      "source": [
        "# Ask for the first number.\n",
        "# It can be any number but it must be a number\n",
        "# So if a non number character is entered we manage the exception\n",
        "\n",
        "while True:\n",
        "  try:\n",
        "    print('Tell me any number')\n",
        "    n1 = float(input())\n",
        "    break\n",
        "  except ValueError:\n",
        "    print(\"It is not a number... Try again\")\n",
        "\n",
        "# Ask for the second number\n",
        "# It also needs to be a number but different from 0\n",
        "# Otherwise we will get ZeroDivisionError\n",
        "# So, we add another exception clause\n",
        "\n",
        "while True:\n",
        "  try:\n",
        "    print('Tell me another number other than 0 (cero)')\n",
        "    n2 = float(input())\n",
        "    if n2 == 0:\n",
        "      raise\n",
        "    break\n",
        "  except ValueError:\n",
        "    print(\"It is not a number... Try again\")\n",
        "  except:\n",
        "    print(\"Not 0 please... Try again\")\n",
        "\n",
        "print(n1, '+', n2 , '=', n1 + n2)\n",
        "print(n1, '-', n2 , '=', n1 - n2)\n",
        "print(n1, '*', n2 , '=', n1 * n2)\n",
        "print(n1, '/', n2 , '=', n1 / n2)"
      ]
    }
  ]
}